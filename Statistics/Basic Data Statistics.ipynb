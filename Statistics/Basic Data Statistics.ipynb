{
 "cells": [
  {
   "cell_type": "markdown",
   "metadata": {},
   "source": [
    "## The Central Tendancy of Data\n",
    "1. Mean\n",
    "2. Median\n",
    "3. Mode"
   ]
  },
  {
   "cell_type": "markdown",
   "metadata": {},
   "source": [
    "- Symmetric data: Mean = Median = Mode\n",
    "- Positively skewed data: Mean > Median > Mode\n",
    "- Negatively skewed data: Mean < Median < Mode"
   ]
  },
  {
   "cell_type": "markdown",
   "metadata": {},
   "source": [
    "## Dispersion of data\n",
    "1. Variance $$s^{2} = \\frac{\\sum_{i=1}^{n} (x_{i}-\\bar{x})^2}{n-1}$$\n",
    "2. Interquartile Range (IQR): $Q_{3} - Q_{1}$\n",
    "3. Outliers: $Q3+1.5*IQR < x < Q1-1.5*IQR$"
   ]
  },
  {
   "cell_type": "markdown",
   "metadata": {},
   "source": [
    "## Distributions of Data\n",
    "1. Normal Distribution $$N(\\mu, \\sigma^2) = \\frac{1} {\\sqrt{2\\pi\\sigma^2}}\\exp^{-\\frac{1}{2}(\\frac{x-\\mu}{\\sigma})^2} $$"
   ]
  },
  {
   "cell_type": "markdown",
   "metadata": {},
   "source": [
    "- Q1 to Q3: 50%\n",
    "- $\\mu-\\sigma$ to $\\mu+\\sigma$: 68%\n",
    "- $\\mu-2\\sigma$ to $\\mu+2\\sigma$: 95%\n",
    "- $\\mu-3\\sigma$ to $\\mu+3\\sigma$: 99.7%"
   ]
  },
  {
   "cell_type": "markdown",
   "metadata": {},
   "source": [
    "## Standardization of Numerical Data"
   ]
  },
  {
   "cell_type": "markdown",
   "metadata": {},
   "source": [
    "1. Z-score standardization\n",
    "    - Each feature is standardized independently\n",
    "    - Makes mean to be zero and variance to be 1\n",
    "    - Appropriate if the feature is expected to follow normal distribution\n",
    "    - Standardization used by StandardScaler in sklearn\n",
    "    $$z = \\frac{x-\\mu}{\\sigma}$$\n",
    "    "
   ]
  },
  {
   "cell_type": "markdown",
   "metadata": {},
   "source": [
    "## Standardization of Ordinal data"
   ]
  },
  {
   "cell_type": "markdown",
   "metadata": {},
   "source": [
    "- If the ranks of ordial data can be sorted in ascending order as r = [1,2......M],\n",
    "  $$z_{r} = \\frac{r-1}{M-1}, z_{r}\\in [0,1]$$\n",
    "  "
   ]
  },
  {
   "cell_type": "code",
   "execution_count": null,
   "metadata": {},
   "outputs": [],
   "source": []
  }
 ],
 "metadata": {
  "kernelspec": {
   "display_name": "Python 3",
   "language": "python",
   "name": "python3"
  },
  "language_info": {
   "codemirror_mode": {
    "name": "ipython",
    "version": 3
   },
   "file_extension": ".py",
   "mimetype": "text/x-python",
   "name": "python",
   "nbconvert_exporter": "python",
   "pygments_lexer": "ipython3",
   "version": "3.8.3"
  }
 },
 "nbformat": 4,
 "nbformat_minor": 4
}
