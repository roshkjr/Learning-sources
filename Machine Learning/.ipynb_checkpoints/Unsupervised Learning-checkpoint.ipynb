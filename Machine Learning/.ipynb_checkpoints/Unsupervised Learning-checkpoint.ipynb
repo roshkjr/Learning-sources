{
 "cells": [
  {
   "cell_type": "markdown",
   "metadata": {},
   "source": [
    "## Hierarchical Clustering"
   ]
  },
  {
   "cell_type": "markdown",
   "metadata": {},
   "source": [
    "Agglomerative hierarchical clustring algorithm\n",
    "    1. Calculate the proximity matrix\n",
    "    2. Consider each data point as individual cluster\n",
    "    3. While (num_clusters > 1):\n",
    "           merge two closest clusters\n",
    "           update proximity matrix"
   ]
  },
  {
   "cell_type": "markdown",
   "metadata": {},
   "source": [
    "## How to calculate distance between two clusters"
   ]
  },
  {
   "cell_type": "markdown",
   "metadata": {},
   "source": [
    "1. MIN: minimum distance between two points in the two clusters\n",
    "2. MAX: Maximum distance between two points in the two clusters\n",
    "3. Group Average: $d_{ga} = \\frac{\\sum_{i \\in C_{1}, j \\in C_{2}} d(i,j)}{|C_{1}||C_{2}|}$\n",
    "4. Ward's method:\n",
    "    - For each cluster 'c' containing n points, calculate $SSE = \\sum_{i=1}^{n} (x_{i} - \\bar x_{c})^2$, $\\bar x_{c} = \\frac{\\sum_{i=1}^{n} x_{i}}{n}$\n",
    "    - Merge two clusters with least increase in SSE"
   ]
  },
  {
   "cell_type": "code",
   "execution_count": null,
   "metadata": {},
   "outputs": [],
   "source": []
  }
 ],
 "metadata": {
  "kernelspec": {
   "display_name": "Python 3",
   "language": "python",
   "name": "python3"
  },
  "language_info": {
   "codemirror_mode": {
    "name": "ipython",
    "version": 3
   },
   "file_extension": ".py",
   "mimetype": "text/x-python",
   "name": "python",
   "nbconvert_exporter": "python",
   "pygments_lexer": "ipython3",
   "version": "3.8.3"
  }
 },
 "nbformat": 4,
 "nbformat_minor": 4
}
